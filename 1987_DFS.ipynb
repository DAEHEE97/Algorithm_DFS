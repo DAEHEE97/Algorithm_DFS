{
 "cells": [
  {
   "cell_type": "markdown",
   "metadata": {},
   "source": [
    "# [DFS_1987](https://www.acmicpc.net/problem/1987)\n",
    "\n",
    "-[알파벳]"
   ]
  },
  {
   "cell_type": "markdown",
   "metadata": {},
   "source": [
    "---"
   ]
  },
  {
   "cell_type": "markdown",
   "metadata": {},
   "source": [
    "## 문제\n",
    "\n",
    "세로 R칸, 가로 C칸으로 된 표 모양의 보드가 있다. 보드의 각 칸에는 대문자 알파벳이 하나씩 적혀 있고, 좌측 상단 칸 (1행 1열) 에는 말이 놓여 있다.\n",
    "\n",
    "말은 상하좌우로 인접한 네 칸 중의 한 칸으로 이동할 수 있는데, \n",
    "\n",
    "새로 이동한 칸에 적혀 있는 알파벳은 지금까지 지나온 모든 칸에 적혀 있는 알파벳과는 달라야 한다. \n",
    "\n",
    "즉, 같은 알파벳이 적힌 칸을 두 번 지날 수 없다.\n",
    "\n",
    "좌측 상단에서 시작해서, 말이 최대한 몇 칸을 지날 수 있는지를 구하는 프로그램을 작성하시오. \n",
    "\n",
    "말이 지나는 칸은 좌측 상단의 칸도 포함된다.\n",
    "\n",
    "## 입력\n",
    "\n",
    "첫째 줄에 R과 C가 빈칸을 사이에 두고 주어진다. \n",
    "\n",
    "(1 ≤ R,C ≤ 20) 둘째 줄부터 R개의 줄에 걸쳐서 보드에 적혀 있는 C개의 대문자 알파벳들이 빈칸 없이 주어진다.\n",
    "\n",
    "## 출력\n",
    "\n",
    "첫째 줄에 말이 지날 수 있는 최대의 칸 수를 출력한다."
   ]
  },
  {
   "cell_type": "markdown",
   "metadata": {},
   "source": [
    "---"
   ]
  },
  {
   "cell_type": "markdown",
   "metadata": {},
   "source": [
    "- dfs 재귀 처리\n",
    "\n",
    "---\n",
    "\n",
    "- 4방향, 범위내, 중복 값 X\n",
    "\n",
    "- 이전까지 중복 좌표 X, 방문 표시 리스트를 활용 \n",
    "\n",
    "- 알파벳 string ASCII, 방문 값 표시 리스트 처리\n",
    "\n",
    "---\n",
    "\n",
    "- 시작 좌표 ci,cj 0,0 에서 시작해서, cnt 처리\n",
    "\n",
    "- 최대 cnt 처리\n",
    "\n",
    "\n",
    "---\n",
    "\n",
    "- 재귀 복원 처리\n",
    "\n",
    "- DFS 탐색을 통해서 깊이 있게 들어가다가 범위 제한이나 이미 경험한 알파벳을 만났을 때 다시 재귀가 풀리면서 원래의 위치로 돌아갑니다. \n",
    "\n",
    "- 그렇게 된다면, 다시 다른 방향으로 움직이게 될텐데 그 때 문제가 생기지 않도록 방문했던 부분을 방문하지 않은 것으로 복원"
   ]
  },
  {
   "cell_type": "markdown",
   "metadata": {},
   "source": [
    "---"
   ]
  },
  {
   "cell_type": "markdown",
   "metadata": {},
   "source": [
    "<img src = \"1987.png\" width = \"500\" height = \"500\" >"
   ]
  },
  {
   "cell_type": "markdown",
   "metadata": {},
   "source": [
    "---"
   ]
  },
  {
   "cell_type": "markdown",
   "metadata": {},
   "source": [
    "## 시간 초과"
   ]
  },
  {
   "cell_type": "code",
   "execution_count": 1,
   "metadata": {},
   "outputs": [],
   "source": [
    "def dfs(ci, cj):\n",
    "    \n",
    "    global ans\n",
    "    global cnt\n",
    "    \n",
    "    ans = max(ans, cnt)\n",
    "\n",
    "    # 4방향, 범위내, 중복값이 아닌경우\n",
    "    \n",
    "    for di,dj in ((-1,0),(1,0),(0,-1),(0,1)):\n",
    "        \n",
    "        ni,nj = ci+di, cj+dj\n",
    "    \n",
    "        if 0<=ni<R and 0<=nj<C and v[ord(arr[ni][nj])] == 0:\n",
    "                \n",
    "                # 방문 처리 \n",
    "                v[ord(arr[ni][nj])] = 1\n",
    "                cnt += 1\n",
    "                \n",
    "                dfs(ni, nj)\n",
    "                \n",
    "                # 재귀 복원 처리\n",
    "                cnt -= 1\n",
    "                v[ord(arr[ni][nj])] = 0"
   ]
  },
  {
   "cell_type": "code",
   "execution_count": 8,
   "metadata": {},
   "outputs": [
    {
     "name": "stdout",
     "output_type": "stream",
     "text": [
      "5 5\n",
      "IEFCJ\n",
      "FHFKC\n",
      "FFALF\n",
      "HFGCF\n",
      "HMCHH\n"
     ]
    }
   ],
   "source": [
    "# 세로 R칸, 가로 C칸\n",
    "\n",
    "R, C = map(int, input().split())\n",
    "\n",
    "arr = [ list(input()) for _ in range(R) ]\n",
    "\n",
    "ans = 1\n",
    "cnt = 1\n",
    "\n",
    "\n",
    "# 방문 값 표시 리스트 ASCII 65~90\n",
    "v = [0] * 91\n",
    "\n",
    "# 초기 값 방문 처리\n",
    "v[ ord(arr[0][0]) ] = 1 \n",
    "\n",
    "dfs(0, 0)"
   ]
  },
  {
   "cell_type": "code",
   "execution_count": 9,
   "metadata": {},
   "outputs": [],
   "source": [
    "dfs(0, 0)"
   ]
  },
  {
   "cell_type": "code",
   "execution_count": 10,
   "metadata": {},
   "outputs": [
    {
     "name": "stdout",
     "output_type": "stream",
     "text": [
      "10\n"
     ]
    }
   ],
   "source": [
    "print(ans)"
   ]
  },
  {
   "cell_type": "markdown",
   "metadata": {},
   "source": [
    "---"
   ]
  },
  {
   "cell_type": "code",
   "execution_count": null,
   "metadata": {},
   "outputs": [],
   "source": [
    "def dfs(ci, cj, cnt):\n",
    "    \n",
    "    global ans\n",
    "    \n",
    "    ans = max(ans, cnt)\n",
    "\n",
    "    # 4방향, 범위내, 중복값이 아닌경우\n",
    "    for di,dj in ((-1,0),(1,0),(0,-1),(0,1)):\n",
    "        \n",
    "        ni,nj = ci+di, cj+dj\n",
    "    \n",
    "        if 0<=ni<R and 0<=nj<C and v[ord(arr[ni][nj])] == 0:\n",
    "                \n",
    "                v[ord(arr[ni][nj])] = 1\n",
    "                dfs(ni, nj, cnt+1)\n",
    "                \n",
    "                # 재귀 복원 처리\n",
    "                \n",
    "                v[ord(arr[ni][nj])] = 0 "
   ]
  },
  {
   "cell_type": "code",
   "execution_count": null,
   "metadata": {},
   "outputs": [],
   "source": []
  }
 ],
 "metadata": {
  "hide_input": false,
  "kernelspec": {
   "display_name": "Python 3 (ipykernel)",
   "language": "python",
   "name": "python3"
  },
  "language_info": {
   "codemirror_mode": {
    "name": "ipython",
    "version": 3
   },
   "file_extension": ".py",
   "mimetype": "text/x-python",
   "name": "python",
   "nbconvert_exporter": "python",
   "pygments_lexer": "ipython3",
   "version": "3.8.16"
  },
  "toc": {
   "base_numbering": 1,
   "nav_menu": {},
   "number_sections": true,
   "sideBar": true,
   "skip_h1_title": false,
   "title_cell": "Table of Contents",
   "title_sidebar": "Contents",
   "toc_cell": false,
   "toc_position": {},
   "toc_section_display": true,
   "toc_window_display": false
  },
  "varInspector": {
   "cols": {
    "lenName": 16,
    "lenType": 16,
    "lenVar": 40
   },
   "kernels_config": {
    "python": {
     "delete_cmd_postfix": "",
     "delete_cmd_prefix": "del ",
     "library": "var_list.py",
     "varRefreshCmd": "print(var_dic_list())"
    },
    "r": {
     "delete_cmd_postfix": ") ",
     "delete_cmd_prefix": "rm(",
     "library": "var_list.r",
     "varRefreshCmd": "cat(var_dic_list()) "
    }
   },
   "types_to_exclude": [
    "module",
    "function",
    "builtin_function_or_method",
    "instance",
    "_Feature"
   ],
   "window_display": false
  }
 },
 "nbformat": 4,
 "nbformat_minor": 4
}
