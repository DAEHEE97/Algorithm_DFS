{
 "cells": [
  {
   "cell_type": "markdown",
   "metadata": {},
   "source": [
    "# [DFS_1260](https://www.acmicpc.net/problem/1260)"
   ]
  },
  {
   "cell_type": "markdown",
   "metadata": {},
   "source": [
    "---"
   ]
  },
  {
   "cell_type": "markdown",
   "metadata": {},
   "source": [
    "## 문제\n",
    "\n",
    "그래프를 DFS로 탐색한 결과와 BFS로 탐색한 결과를 출력하는 프로그램을 작성하시오.\n",
    "\n",
    "단, 방문할 수 있는 정점이 여러 개인 경우에는 정점 번호가 작은 것을 먼저 방문하고, 더 이상 방문할 수 있는 점이 없는 경우 종료한다. 정점 번호는 1번부터 N번까지이다.\n",
    "\n",
    "## 입력\n",
    "\n",
    "첫째 줄에 정점의 개수 N(1 ≤ N ≤ 1,000), 간선의 개수 M(1 ≤ M ≤ 10,000), 탐색을 시작할 정점의 번호 V가 주어진다. \n",
    "\n",
    "다음 M개의 줄에는 간선이 연결하는 두 정점의 번호가 주어진다. \n",
    "\n",
    "어떤 두 정점 사이에 여러 개의 간선이 있을 수 있다. \n",
    "\n",
    "입력으로 주어지는 간선은 양방향이다.\n",
    "\n",
    "## 출력\n",
    "\n",
    "첫째 줄에 DFS를 수행한 결과를, \n",
    "\n",
    "그 다음 줄에는 BFS를 수행한 결과를 출력한다. \n",
    "\n",
    "V부터 방문된 점을 순서대로 출력하면 된다."
   ]
  },
  {
   "cell_type": "markdown",
   "metadata": {},
   "source": [
    "---"
   ]
  },
  {
   "cell_type": "markdown",
   "metadata": {},
   "source": [
    "## MEMO\n",
    "\n",
    "- 정점, 간선의 개수, 시작 노드 입력\n",
    "\n",
    "- adj 2차원 arr, 양방향 입력, 내부 리스트 sort()\n",
    "\n",
    "- 방문 표시 리스트 v\n",
    "\n",
    "- 현재 노드 부터 방문 표시\n",
    "\n",
    "- 현재 노드와 인접한 노드 가 미방문 이라면, 방문,\n",
    "\n",
    "- 또 방금 방문한 노드의 인접한 노드가 미방문 노드라면, 방문 처리\n"
   ]
  },
  {
   "cell_type": "markdown",
   "metadata": {},
   "source": [
    "---"
   ]
  },
  {
   "cell_type": "code",
   "execution_count": null,
   "metadata": {},
   "outputs": [],
   "source": [
    "def solve(lst):\n",
    "    \n",
    "    # 0 idx에 0 삽입\n",
    "    lst.insert(0,0)\n",
    "    \n",
    "    # 0 1 2 3 4 \n",
    "    \n",
    "    "
   ]
  },
  {
   "cell_type": "code",
   "execution_count": 1,
   "metadata": {},
   "outputs": [],
   "source": [
    "\n",
    "\n",
    "def dfs(c):\n",
    "    \n",
    "    v[c] = 1 # 현재 노드 방문하면서 방문 표시\n",
    "    \n",
    "    ans.append(c) # 정답 처리\n",
    "    \n",
    "    # 인접 리스트에서 연결되어 있는 노드 꺼내서, 조건 (미방문 시) 방문 표시 및 dfs 재귀\n",
    "    for n in adj[c]:\n",
    "        \n",
    "        if v[n] == 0:\n",
    "          \n",
    "            dfs(n) \n",
    "            "
   ]
  },
  {
   "cell_type": "code",
   "execution_count": 2,
   "metadata": {},
   "outputs": [
    {
     "name": "stdout",
     "output_type": "stream",
     "text": [
      "5 5 1\n",
      "1 4\n",
      "1 2\n",
      "2 3\n",
      "2 4\n",
      "3 4\n"
     ]
    }
   ],
   "source": [
    "N, M, C = map(int, input().split())\n",
    "\n",
    "adj = [ [] for _ in range(N+1) ]\n",
    "\n",
    "for _ in range(M):\n",
    "    \n",
    "    s, e = map(int, input().split())\n",
    "    \n",
    "    adj[s].append(e)\n",
    "    adj[e].append(s)\n",
    "\n",
    "for lst in adj:\n",
    "    lst.sort()\n",
    "\n",
    "v = [0] * (N+1)\n",
    "\n",
    "ans  = []\n",
    "\n",
    "dfs(C)\n",
    "\n"
   ]
  },
  {
   "cell_type": "code",
   "execution_count": 3,
   "metadata": {},
   "outputs": [
    {
     "data": {
      "text/plain": [
       "[1, 2, 3, 4]"
      ]
     },
     "execution_count": 3,
     "metadata": {},
     "output_type": "execute_result"
    }
   ],
   "source": [
    "# 방문 순서 처리\n",
    "ans"
   ]
  }
 ],
 "metadata": {
  "hide_input": false,
  "kernelspec": {
   "display_name": "Python 3 (ipykernel)",
   "language": "python",
   "name": "python3"
  },
  "language_info": {
   "codemirror_mode": {
    "name": "ipython",
    "version": 3
   },
   "file_extension": ".py",
   "mimetype": "text/x-python",
   "name": "python",
   "nbconvert_exporter": "python",
   "pygments_lexer": "ipython3",
   "version": "3.8.16"
  },
  "toc": {
   "base_numbering": 1,
   "nav_menu": {},
   "number_sections": true,
   "sideBar": true,
   "skip_h1_title": false,
   "title_cell": "Table of Contents",
   "title_sidebar": "Contents",
   "toc_cell": false,
   "toc_position": {},
   "toc_section_display": true,
   "toc_window_display": false
  },
  "varInspector": {
   "cols": {
    "lenName": 16,
    "lenType": 16,
    "lenVar": 40
   },
   "kernels_config": {
    "python": {
     "delete_cmd_postfix": "",
     "delete_cmd_prefix": "del ",
     "library": "var_list.py",
     "varRefreshCmd": "print(var_dic_list())"
    },
    "r": {
     "delete_cmd_postfix": ") ",
     "delete_cmd_prefix": "rm(",
     "library": "var_list.r",
     "varRefreshCmd": "cat(var_dic_list()) "
    }
   },
   "types_to_exclude": [
    "module",
    "function",
    "builtin_function_or_method",
    "instance",
    "_Feature"
   ],
   "window_display": false
  }
 },
 "nbformat": 4,
 "nbformat_minor": 4
}
