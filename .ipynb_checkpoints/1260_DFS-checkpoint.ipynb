{
 "cells": [
  {
   "cell_type": "markdown",
   "metadata": {},
   "source": [
    "# [DFS_1260](https://www.acmicpc.net/problem/1260)"
   ]
  },
  {
   "cell_type": "markdown",
   "metadata": {},
   "source": [
    "---"
   ]
  },
  {
   "cell_type": "code",
   "execution_count": 1,
   "metadata": {},
   "outputs": [],
   "source": [
    "def dfs(c):\n",
    "    \n",
    "    # 2-1) 현재 노드 방문하면서 방문 표시\n",
    "    v[c] = 1 \n",
    "    \n",
    "    # 3) 정답 처리 \n",
    "    ans.append(c) \n",
    "    \n",
    "    # 2-2) 인접 리스트에서 조건 (미방문 시) dfs 재귀(방문 표시)\n",
    "    for n in adj[c]:\n",
    "        \n",
    "        if v[n] == 0:\n",
    "            \n",
    "            dfs(n) \n",
    "            "
   ]
  },
  {
   "cell_type": "code",
   "execution_count": 2,
   "metadata": {},
   "outputs": [
    {
     "name": "stdout",
     "output_type": "stream",
     "text": [
      "5 5 3\n",
      "5 4\n",
      "5 2\n",
      "1 2\n",
      "3 4\n",
      "3 1\n"
     ]
    }
   ],
   "source": [
    "# 1-1)입력\n",
    "N, M, C = map(int, input().split())\n",
    "\n",
    "adj = [ [] for _ in range(N+1) ]\n",
    "\n",
    "# 1-2) 인접 리스트, 양방향 처리, 인접 리스트내 우선순위 오름차순 정렬\n",
    "for _ in range(M):\n",
    "    \n",
    "    s, e = map(int, input().split())\n",
    "    \n",
    "    adj[s].append(e)\n",
    "    adj[e].append(s)\n",
    "\n",
    "for lst in adj:\n",
    "    lst.sort()\n",
    "    \n",
    "# 1-3) 방문 표시 리스트 생성, 전역 변수로 처리(재귀)\n",
    "v = [0] * (N+1)\n",
    "\n",
    "# 정답 처리\n",
    "ans  = []\n",
    "dfs(C)"
   ]
  },
  {
   "cell_type": "code",
   "execution_count": 3,
   "metadata": {},
   "outputs": [
    {
     "data": {
      "text/plain": [
       "[3, 1, 2, 5, 4]"
      ]
     },
     "execution_count": 3,
     "metadata": {},
     "output_type": "execute_result"
    }
   ],
   "source": [
    "# 방문 순서 처리\n",
    "ans"
   ]
  },
  {
   "cell_type": "code",
   "execution_count": 4,
   "metadata": {},
   "outputs": [
    {
     "data": {
      "text/plain": [
       "[0, 1, 1, 1, 1, 1]"
      ]
     },
     "execution_count": 4,
     "metadata": {},
     "output_type": "execute_result"
    }
   ],
   "source": [
    "v"
   ]
  }
 ],
 "metadata": {
  "hide_input": false,
  "kernelspec": {
   "display_name": "Python 3 (ipykernel)",
   "language": "python",
   "name": "python3"
  },
  "language_info": {
   "codemirror_mode": {
    "name": "ipython",
    "version": 3
   },
   "file_extension": ".py",
   "mimetype": "text/x-python",
   "name": "python",
   "nbconvert_exporter": "python",
   "pygments_lexer": "ipython3",
   "version": "3.8.16"
  },
  "toc": {
   "base_numbering": 1,
   "nav_menu": {},
   "number_sections": true,
   "sideBar": true,
   "skip_h1_title": false,
   "title_cell": "Table of Contents",
   "title_sidebar": "Contents",
   "toc_cell": false,
   "toc_position": {},
   "toc_section_display": true,
   "toc_window_display": false
  },
  "varInspector": {
   "cols": {
    "lenName": 16,
    "lenType": 16,
    "lenVar": 40
   },
   "kernels_config": {
    "python": {
     "delete_cmd_postfix": "",
     "delete_cmd_prefix": "del ",
     "library": "var_list.py",
     "varRefreshCmd": "print(var_dic_list())"
    },
    "r": {
     "delete_cmd_postfix": ") ",
     "delete_cmd_prefix": "rm(",
     "library": "var_list.r",
     "varRefreshCmd": "cat(var_dic_list()) "
    }
   },
   "types_to_exclude": [
    "module",
    "function",
    "builtin_function_or_method",
    "instance",
    "_Feature"
   ],
   "window_display": false
  }
 },
 "nbformat": 4,
 "nbformat_minor": 4
}
