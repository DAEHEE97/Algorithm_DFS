{
 "cells": [
  {
   "cell_type": "markdown",
   "id": "4261f78f",
   "metadata": {},
   "source": [
    "# [24479_DFS](https://www.acmicpc.net/problem/24479)\n",
    "\n",
    "- global\n",
    "\n",
    "- sys.setrecursionlimit(10 ** 6)\n"
   ]
  },
  {
   "cell_type": "markdown",
   "id": "6efb58c6",
   "metadata": {},
   "source": [
    "---"
   ]
  },
  {
   "cell_type": "markdown",
   "id": "1cd12d79",
   "metadata": {},
   "source": [
    "## Memo\n",
    "\n",
    "\n",
    "- 인접 정점은 오름차순으로 방문\n",
    "\n",
    "- 방문 순서 출력이 아니라, 정점 i의 방문 순서 출력\n",
    "\n",
    "- 시작 정점에서 방문할 수 없는 경우 0을 출력한다.\n",
    "\n",
    "- 재귀 함수 특성상 cnt+= 1 처리가 안됨, > global 처리하여, 지역함수 내에서 전역변수를 사용하여, 값을 계속해서 기록"
   ]
  },
  {
   "cell_type": "markdown",
   "id": "ca0a5b20",
   "metadata": {},
   "source": [
    "---"
   ]
  },
  {
   "cell_type": "code",
   "execution_count": null,
   "id": "762cbff7",
   "metadata": {},
   "outputs": [],
   "source": [
    "import sys\n",
    "sys.setrecursionlimit(10 ** 6)\n",
    "\n",
    "input = sys.stdin.readline\n"
   ]
  },
  {
   "cell_type": "code",
   "execution_count": null,
   "id": "94df0306",
   "metadata": {},
   "outputs": [],
   "source": [
    "def dfs(c):\n",
    "    \n",
    "    # global처리하여, global 변수, main 내 cnt 가 ++ 처리 됨\n",
    "    \n",
    "    global cnt \n",
    "    \n",
    "    v[c] = cnt\n",
    "    \n",
    "    for n in adj[c]:\n",
    "                \n",
    "        if v[n] == 0:\n",
    "            cnt += 1\n",
    "            dfs(n)\n"
   ]
  },
  {
   "cell_type": "code",
   "execution_count": null,
   "id": "0a6475d8",
   "metadata": {
    "scrolled": true
   },
   "outputs": [],
   "source": [
    "# 입력 \n",
    "\n",
    "N, M, C = map(int, input().split())\n",
    "\n",
    "adj = [ [] for _ in range(N+1) ]\n",
    "\n",
    "for _ in range(M):\n",
    "    \n",
    "    s, e = map(int, input().split())\n",
    "    \n",
    "    adj[s].append(e)\n",
    "    adj[e].append(s)\n",
    "\n",
    "for lst in adj:\n",
    "    lst.sort()\n",
    "\n",
    "\n",
    "v = [0] * (N+1)\n",
    "\n",
    "cnt = 1\n",
    "\n"
   ]
  },
  {
   "cell_type": "code",
   "execution_count": null,
   "id": "5272ba76",
   "metadata": {},
   "outputs": [],
   "source": [
    "dfs(C)"
   ]
  },
  {
   "cell_type": "code",
   "execution_count": null,
   "id": "ea827e95",
   "metadata": {},
   "outputs": [],
   "source": [
    "for i in range(1, N+1):\n",
    "    print(v[i])\n"
   ]
  },
  {
   "cell_type": "code",
   "execution_count": null,
   "id": "9d73178c",
   "metadata": {},
   "outputs": [],
   "source": [
    "for i in v[1:]:\n",
    "    print(i)"
   ]
  },
  {
   "cell_type": "markdown",
   "id": "d8431dd6",
   "metadata": {},
   "source": [
    "---"
   ]
  },
  {
   "cell_type": "markdown",
   "id": "cbd8c8f8",
   "metadata": {},
   "source": [
    "## 시간 초과"
   ]
  },
  {
   "cell_type": "code",
   "execution_count": null,
   "id": "49222c5c",
   "metadata": {},
   "outputs": [],
   "source": [
    "import sys\n",
    "\n",
    "sys.setrecursionlimit(10 ** 6)\n",
    "\n",
    "input = sys.stdin.readline\n",
    "\n",
    "\n",
    "def dfs(c):\n",
    "    \n",
    "    # 방문 처리 및 정답 처리\n",
    "    \n",
    "    v[c] = 1\n",
    "    \n",
    "    ans.append(c)\n",
    "    \n",
    "    for n in adj[c]:\n",
    "        \n",
    "        if v[n] == 0:\n",
    "            dfs(n)\n",
    "            "
   ]
  },
  {
   "cell_type": "code",
   "execution_count": null,
   "id": "c7ec6335",
   "metadata": {},
   "outputs": [],
   "source": [
    "# 입력 \n",
    "\n",
    "N, M, C = map(int, input().split())\n",
    "\n",
    "adj = [ [] for _ in range(N+1) ]\n",
    "\n",
    "for _ in range(M):\n",
    "    \n",
    "    s, e = map(int, input().split())\n",
    "    \n",
    "    adj[s].append(e)\n",
    "    adj[e].append(s)\n",
    "\n",
    "for lst in adj:\n",
    "    lst.sort()\n",
    "\n",
    "\n",
    "v = [0] * (N+1)\n",
    "\n",
    "ans = []\n",
    "\n",
    "dfs(C)"
   ]
  },
  {
   "cell_type": "code",
   "execution_count": null,
   "id": "b63029e0",
   "metadata": {},
   "outputs": [],
   "source": [
    "# 방문 순서 리스트 생서애서 처리\n",
    "\n",
    "\n",
    "s = [0] * (N+1)\n",
    "\n",
    "\n",
    "for i in range(1, N+1):\n",
    "    \n",
    "    if i in ans:\n",
    "        s[i] = ans.index(i) + 1\n",
    "    else:\n",
    "        s[i] = 0\n",
    "        \n",
    "\n",
    "for i in s[1:]:\n",
    "    print(i)  "
   ]
  }
 ],
 "metadata": {
  "kernelspec": {
   "display_name": "Python 3 (ipykernel)",
   "language": "python",
   "name": "python3"
  },
  "language_info": {
   "codemirror_mode": {
    "name": "ipython",
    "version": 3
   },
   "file_extension": ".py",
   "mimetype": "text/x-python",
   "name": "python",
   "nbconvert_exporter": "python",
   "pygments_lexer": "ipython3",
   "version": "3.8.16"
  },
  "toc": {
   "base_numbering": 1,
   "nav_menu": {},
   "number_sections": true,
   "sideBar": true,
   "skip_h1_title": false,
   "title_cell": "Table of Contents",
   "title_sidebar": "Contents",
   "toc_cell": false,
   "toc_position": {},
   "toc_section_display": true,
   "toc_window_display": false
  },
  "varInspector": {
   "cols": {
    "lenName": 16,
    "lenType": 16,
    "lenVar": 40
   },
   "kernels_config": {
    "python": {
     "delete_cmd_postfix": "",
     "delete_cmd_prefix": "del ",
     "library": "var_list.py",
     "varRefreshCmd": "print(var_dic_list())"
    },
    "r": {
     "delete_cmd_postfix": ") ",
     "delete_cmd_prefix": "rm(",
     "library": "var_list.r",
     "varRefreshCmd": "cat(var_dic_list()) "
    }
   },
   "types_to_exclude": [
    "module",
    "function",
    "builtin_function_or_method",
    "instance",
    "_Feature"
   ],
   "window_display": false
  }
 },
 "nbformat": 4,
 "nbformat_minor": 5
}
