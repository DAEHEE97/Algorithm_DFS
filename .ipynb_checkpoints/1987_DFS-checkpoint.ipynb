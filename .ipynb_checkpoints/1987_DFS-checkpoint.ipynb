{
 "cells": [
  {
   "cell_type": "markdown",
   "metadata": {},
   "source": [
    "# DFS_1987\n",
    "\n",
    "-[알파벳](https://www.acmicpc.net/problem/1987)"
   ]
  },
  {
   "cell_type": "markdown",
   "metadata": {},
   "source": [
    "---"
   ]
  },
  {
   "cell_type": "markdown",
   "metadata": {},
   "source": [
    "## 문제\n",
    "\n",
    "세로 R칸, 가로 C칸으로 된 표 모양의 보드가 있다. 보드의 각 칸에는 대문자 알파벳이 하나씩 적혀 있고, 좌측 상단 칸 (1행 1열) 에는 말이 놓여 있다.\n",
    "\n",
    "말은 상하좌우로 인접한 네 칸 중의 한 칸으로 이동할 수 있는데, \n",
    "\n",
    "새로 이동한 칸에 적혀 있는 알파벳은 지금까지 지나온 모든 칸에 적혀 있는 알파벳과는 달라야 한다. \n",
    "\n",
    "즉, 같은 알파벳이 적힌 칸을 두 번 지날 수 없다.\n",
    "\n",
    "좌측 상단에서 시작해서, 말이 최대한 몇 칸을 지날 수 있는지를 구하는 프로그램을 작성하시오. \n",
    "\n",
    "말이 지나는 칸은 좌측 상단의 칸도 포함된다.\n",
    "\n",
    "## 입력\n",
    "\n",
    "첫째 줄에 R과 C가 빈칸을 사이에 두고 주어진다. \n",
    "\n",
    "(1 ≤ R,C ≤ 20) 둘째 줄부터 R개의 줄에 걸쳐서 보드에 적혀 있는 C개의 대문자 알파벳들이 빈칸 없이 주어진다.\n",
    "\n",
    "## 출력\n",
    "\n",
    "첫째 줄에 말이 지날 수 있는 최대의 칸 수를 출력한다."
   ]
  },
  {
   "cell_type": "markdown",
   "metadata": {},
   "source": [
    "<img src = \"1987.png\" width = \"500\" height = \"500\" >"
   ]
  },
  {
   "cell_type": "markdown",
   "metadata": {},
   "source": [
    "---"
   ]
  },
  {
   "cell_type": "code",
   "execution_count": 39,
   "metadata": {},
   "outputs": [
    {
     "name": "stdout",
     "output_type": "stream",
     "text": [
      "5 5\n",
      "IEFCJ\n",
      "FHFKC\n",
      "FFALF\n",
      "HFGCF\n",
      "HMCHH\n",
      "4\n"
     ]
    }
   ],
   "source": [
    "def dfs(ci,cj):\n",
    "    \n",
    "    v[ci][cj] = 1\n",
    "    \n",
    "    lst.append(arr[ci][cj]) # 알파벳 삽입\n",
    "    \n",
    "    global cnt # 정답처리\n",
    "    cnt +=1 \n",
    "    \n",
    "    for di,dj in ((-1,0),(1,0),(0,-1),(0,1)):\n",
    "        ni,nj = ci+di, cj+dj\n",
    "        \n",
    "        if (0<=ni<R) and (0<=nj<C) and (v[ni][nj] == 0) and (arr[ni][nj] not in lst):\n",
    "            dfs(ni,nj)\n",
    "    \n",
    "\n",
    "\n",
    "    \n",
    "R,C = map(int,input().split())\n",
    "arr = [ list(input()) for _ in range(R) ]\n",
    "v = [ [0]*C for _ in range(R)]\n",
    "\n",
    "lst = []\n",
    "cnt = 0\n",
    "\n",
    "dfs(0,0)\n",
    "\n",
    "\n",
    "print(cnt)"
   ]
  },
  {
   "cell_type": "code",
   "execution_count": null,
   "metadata": {},
   "outputs": [],
   "source": [
    "for i in range(R):\n",
    "    for j in range(C):\n",
    "        bfs(0,0)"
   ]
  },
  {
   "cell_type": "code",
   "execution_count": 40,
   "metadata": {},
   "outputs": [
    {
     "data": {
      "text/plain": [
       "[['I', 'E', 'F', 'C', 'J'],\n",
       " ['F', 'H', 'F', 'K', 'C'],\n",
       " ['F', 'F', 'A', 'L', 'F'],\n",
       " ['H', 'F', 'G', 'C', 'F'],\n",
       " ['H', 'M', 'C', 'H', 'H']]"
      ]
     },
     "execution_count": 40,
     "metadata": {},
     "output_type": "execute_result"
    }
   ],
   "source": [
    "arr"
   ]
  },
  {
   "cell_type": "code",
   "execution_count": 43,
   "metadata": {},
   "outputs": [
    {
     "data": {
      "text/plain": [
       "[[1, 1, 0, 0, 0],\n",
       " [1, 1, 0, 0, 0],\n",
       " [0, 0, 0, 0, 0],\n",
       " [0, 0, 0, 0, 0],\n",
       " [0, 0, 0, 0, 0]]"
      ]
     },
     "execution_count": 43,
     "metadata": {},
     "output_type": "execute_result"
    }
   ],
   "source": [
    "v"
   ]
  },
  {
   "cell_type": "markdown",
   "metadata": {},
   "source": [
    "내가 방문한 적있는 알파벳이면 안됨\n",
    "\n",
    "lst C A D\n"
   ]
  },
  {
   "cell_type": "code",
   "execution_count": 35,
   "metadata": {},
   "outputs": [],
   "source": [
    "dfs(0,0)"
   ]
  },
  {
   "cell_type": "markdown",
   "metadata": {},
   "source": [
    "---"
   ]
  },
  {
   "cell_type": "code",
   "execution_count": null,
   "metadata": {},
   "outputs": [],
   "source": [
    "def dfs(ci, cj, cnt):\n",
    "    \n",
    "    global ans\n",
    "    ans = max(ans, cnt)\n",
    "\n",
    "    # 4방향, 범위내, 중복값이 아닌경우\n",
    "    for di,dj in ((-1,0),(1,0),(0,-1),(0,1)):\n",
    "        ni,nj = ci+di, cj+dj\n",
    "    \n",
    "        if 0<=ni<R and 0<=nj<C and v[ord(arr[ni][nj])]==0:\n",
    "                \n",
    "                v[ord(arr[ni][nj])] = 1\n",
    "                dfs(ni, nj, cnt+1)\n",
    "                v[ord(arr[ni][nj])] = 0\n",
    "\n",
    "            \n",
    "R, C = map(int, input().split())\n",
    "arr = list(input() for _ in range(R))\n",
    "\n",
    "ans = 1\n",
    "v = [0]*128\n",
    "\n",
    "v[ord(arr[0][0])] = 1 \n",
    "\n",
    "dfs(0, 0, 1)\n",
    "\n",
    "print(ans)\n",
    "\n"
   ]
  }
 ],
 "metadata": {
  "hide_input": false,
  "kernelspec": {
   "display_name": "Python 3 (ipykernel)",
   "language": "python",
   "name": "python3"
  },
  "language_info": {
   "codemirror_mode": {
    "name": "ipython",
    "version": 3
   },
   "file_extension": ".py",
   "mimetype": "text/x-python",
   "name": "python",
   "nbconvert_exporter": "python",
   "pygments_lexer": "ipython3",
   "version": "3.11.2"
  },
  "toc": {
   "base_numbering": 1,
   "nav_menu": {},
   "number_sections": true,
   "sideBar": true,
   "skip_h1_title": false,
   "title_cell": "Table of Contents",
   "title_sidebar": "Contents",
   "toc_cell": false,
   "toc_position": {},
   "toc_section_display": true,
   "toc_window_display": false
  }
 },
 "nbformat": 4,
 "nbformat_minor": 4
}
